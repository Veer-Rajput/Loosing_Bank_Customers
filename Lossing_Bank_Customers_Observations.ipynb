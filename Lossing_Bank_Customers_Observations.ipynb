{
 "cells": [
  {
   "cell_type": "markdown",
   "id": "9baa6997",
   "metadata": {},
   "source": [
    "# IMPORT IMPORTANT LIABRARIES"
   ]
  },
  {
   "cell_type": "code",
   "execution_count": 88,
   "id": "c3d88b22",
   "metadata": {},
   "outputs": [],
   "source": [
    "import numpy as np\n",
    "import pandas as pd\n",
    "import seaborn as sns\n",
    "import matplotlib.pyplot as plt\n",
    "from scipy.stats import chi2_contingency"
   ]
  },
  {
   "cell_type": "markdown",
   "id": "484f9dc6",
   "metadata": {},
   "source": [
    "# DATA READING"
   ]
  },
  {
   "cell_type": "code",
   "execution_count": 2,
   "id": "85e5eca3",
   "metadata": {},
   "outputs": [],
   "source": [
    "df = pd.read_csv(\"Bank-Records.csv\")"
   ]
  },
  {
   "cell_type": "code",
   "execution_count": 109,
   "id": "3dad885a",
   "metadata": {},
   "outputs": [
    {
     "data": {
      "text/plain": [
       "(10000, 18)"
      ]
     },
     "execution_count": 109,
     "metadata": {},
     "output_type": "execute_result"
    }
   ],
   "source": [
    "df.shape"
   ]
  },
  {
   "cell_type": "code",
   "execution_count": 3,
   "id": "366fff96",
   "metadata": {},
   "outputs": [
    {
     "data": {
      "text/html": [
       "<div>\n",
       "<style scoped>\n",
       "    .dataframe tbody tr th:only-of-type {\n",
       "        vertical-align: middle;\n",
       "    }\n",
       "\n",
       "    .dataframe tbody tr th {\n",
       "        vertical-align: top;\n",
       "    }\n",
       "\n",
       "    .dataframe thead th {\n",
       "        text-align: right;\n",
       "    }\n",
       "</style>\n",
       "<table border=\"1\" class=\"dataframe\">\n",
       "  <thead>\n",
       "    <tr style=\"text-align: right;\">\n",
       "      <th></th>\n",
       "      <th>RowNumber</th>\n",
       "      <th>CustomerId</th>\n",
       "      <th>Surname</th>\n",
       "      <th>CreditScore</th>\n",
       "      <th>Geography</th>\n",
       "      <th>Gender</th>\n",
       "      <th>Age</th>\n",
       "      <th>Tenure</th>\n",
       "      <th>Balance</th>\n",
       "      <th>NumOfProducts</th>\n",
       "      <th>HasCrCard</th>\n",
       "      <th>IsActiveMember</th>\n",
       "      <th>EstimatedSalary</th>\n",
       "      <th>Exited</th>\n",
       "      <th>Complain</th>\n",
       "      <th>Satisfaction Score</th>\n",
       "      <th>Card Type</th>\n",
       "      <th>Point Earned</th>\n",
       "    </tr>\n",
       "  </thead>\n",
       "  <tbody>\n",
       "    <tr>\n",
       "      <th>0</th>\n",
       "      <td>1</td>\n",
       "      <td>15634602</td>\n",
       "      <td>Hargrave</td>\n",
       "      <td>619</td>\n",
       "      <td>France</td>\n",
       "      <td>Female</td>\n",
       "      <td>42</td>\n",
       "      <td>2</td>\n",
       "      <td>0.00</td>\n",
       "      <td>1</td>\n",
       "      <td>1</td>\n",
       "      <td>1</td>\n",
       "      <td>101348.88</td>\n",
       "      <td>1</td>\n",
       "      <td>1</td>\n",
       "      <td>2</td>\n",
       "      <td>DIAMOND</td>\n",
       "      <td>464</td>\n",
       "    </tr>\n",
       "    <tr>\n",
       "      <th>1</th>\n",
       "      <td>2</td>\n",
       "      <td>15647311</td>\n",
       "      <td>Hill</td>\n",
       "      <td>608</td>\n",
       "      <td>Spain</td>\n",
       "      <td>Female</td>\n",
       "      <td>41</td>\n",
       "      <td>1</td>\n",
       "      <td>83807.86</td>\n",
       "      <td>1</td>\n",
       "      <td>0</td>\n",
       "      <td>1</td>\n",
       "      <td>112542.58</td>\n",
       "      <td>0</td>\n",
       "      <td>1</td>\n",
       "      <td>3</td>\n",
       "      <td>DIAMOND</td>\n",
       "      <td>456</td>\n",
       "    </tr>\n",
       "    <tr>\n",
       "      <th>2</th>\n",
       "      <td>3</td>\n",
       "      <td>15619304</td>\n",
       "      <td>Onio</td>\n",
       "      <td>502</td>\n",
       "      <td>France</td>\n",
       "      <td>Female</td>\n",
       "      <td>42</td>\n",
       "      <td>8</td>\n",
       "      <td>159660.80</td>\n",
       "      <td>3</td>\n",
       "      <td>1</td>\n",
       "      <td>0</td>\n",
       "      <td>113931.57</td>\n",
       "      <td>1</td>\n",
       "      <td>1</td>\n",
       "      <td>3</td>\n",
       "      <td>DIAMOND</td>\n",
       "      <td>377</td>\n",
       "    </tr>\n",
       "    <tr>\n",
       "      <th>3</th>\n",
       "      <td>4</td>\n",
       "      <td>15701354</td>\n",
       "      <td>Boni</td>\n",
       "      <td>699</td>\n",
       "      <td>France</td>\n",
       "      <td>Female</td>\n",
       "      <td>39</td>\n",
       "      <td>1</td>\n",
       "      <td>0.00</td>\n",
       "      <td>2</td>\n",
       "      <td>0</td>\n",
       "      <td>0</td>\n",
       "      <td>93826.63</td>\n",
       "      <td>0</td>\n",
       "      <td>0</td>\n",
       "      <td>5</td>\n",
       "      <td>GOLD</td>\n",
       "      <td>350</td>\n",
       "    </tr>\n",
       "    <tr>\n",
       "      <th>4</th>\n",
       "      <td>5</td>\n",
       "      <td>15737888</td>\n",
       "      <td>Mitchell</td>\n",
       "      <td>850</td>\n",
       "      <td>Spain</td>\n",
       "      <td>Female</td>\n",
       "      <td>43</td>\n",
       "      <td>2</td>\n",
       "      <td>125510.82</td>\n",
       "      <td>1</td>\n",
       "      <td>1</td>\n",
       "      <td>1</td>\n",
       "      <td>79084.10</td>\n",
       "      <td>0</td>\n",
       "      <td>0</td>\n",
       "      <td>5</td>\n",
       "      <td>GOLD</td>\n",
       "      <td>425</td>\n",
       "    </tr>\n",
       "  </tbody>\n",
       "</table>\n",
       "</div>"
      ],
      "text/plain": [
       "   RowNumber  CustomerId   Surname  CreditScore Geography  Gender  Age  \\\n",
       "0          1    15634602  Hargrave          619    France  Female   42   \n",
       "1          2    15647311      Hill          608     Spain  Female   41   \n",
       "2          3    15619304      Onio          502    France  Female   42   \n",
       "3          4    15701354      Boni          699    France  Female   39   \n",
       "4          5    15737888  Mitchell          850     Spain  Female   43   \n",
       "\n",
       "   Tenure    Balance  NumOfProducts  HasCrCard  IsActiveMember  \\\n",
       "0       2       0.00              1          1               1   \n",
       "1       1   83807.86              1          0               1   \n",
       "2       8  159660.80              3          1               0   \n",
       "3       1       0.00              2          0               0   \n",
       "4       2  125510.82              1          1               1   \n",
       "\n",
       "   EstimatedSalary  Exited  Complain  Satisfaction Score Card Type  \\\n",
       "0        101348.88       1         1                   2   DIAMOND   \n",
       "1        112542.58       0         1                   3   DIAMOND   \n",
       "2        113931.57       1         1                   3   DIAMOND   \n",
       "3         93826.63       0         0                   5      GOLD   \n",
       "4         79084.10       0         0                   5      GOLD   \n",
       "\n",
       "   Point Earned  \n",
       "0           464  \n",
       "1           456  \n",
       "2           377  \n",
       "3           350  \n",
       "4           425  "
      ]
     },
     "execution_count": 3,
     "metadata": {},
     "output_type": "execute_result"
    }
   ],
   "source": [
    "df.head()"
   ]
  },
  {
   "cell_type": "code",
   "execution_count": 49,
   "id": "c51ef493",
   "metadata": {},
   "outputs": [],
   "source": [
    "df_churn = df[df['Exited'] == 1]"
   ]
  },
  {
   "cell_type": "code",
   "execution_count": 51,
   "id": "a96c0d4c",
   "metadata": {},
   "outputs": [
    {
     "data": {
      "text/plain": [
       "(2038, 18)"
      ]
     },
     "execution_count": 51,
     "metadata": {},
     "output_type": "execute_result"
    }
   ],
   "source": [
    "df_churn.shape"
   ]
  },
  {
   "cell_type": "code",
   "execution_count": 53,
   "id": "38fb4057",
   "metadata": {},
   "outputs": [
    {
     "data": {
      "text/html": [
       "<div>\n",
       "<style scoped>\n",
       "    .dataframe tbody tr th:only-of-type {\n",
       "        vertical-align: middle;\n",
       "    }\n",
       "\n",
       "    .dataframe tbody tr th {\n",
       "        vertical-align: top;\n",
       "    }\n",
       "\n",
       "    .dataframe thead th {\n",
       "        text-align: right;\n",
       "    }\n",
       "</style>\n",
       "<table border=\"1\" class=\"dataframe\">\n",
       "  <thead>\n",
       "    <tr style=\"text-align: right;\">\n",
       "      <th></th>\n",
       "      <th>RowNumber</th>\n",
       "      <th>CustomerId</th>\n",
       "      <th>Surname</th>\n",
       "      <th>CreditScore</th>\n",
       "      <th>Geography</th>\n",
       "      <th>Gender</th>\n",
       "      <th>Age</th>\n",
       "      <th>Tenure</th>\n",
       "      <th>Balance</th>\n",
       "      <th>NumOfProducts</th>\n",
       "      <th>HasCrCard</th>\n",
       "      <th>IsActiveMember</th>\n",
       "      <th>EstimatedSalary</th>\n",
       "      <th>Exited</th>\n",
       "      <th>Complain</th>\n",
       "      <th>Satisfaction Score</th>\n",
       "      <th>Card Type</th>\n",
       "      <th>Point Earned</th>\n",
       "    </tr>\n",
       "  </thead>\n",
       "  <tbody>\n",
       "    <tr>\n",
       "      <th>0</th>\n",
       "      <td>1</td>\n",
       "      <td>15634602</td>\n",
       "      <td>Hargrave</td>\n",
       "      <td>619</td>\n",
       "      <td>France</td>\n",
       "      <td>Female</td>\n",
       "      <td>42</td>\n",
       "      <td>2</td>\n",
       "      <td>0.0</td>\n",
       "      <td>1</td>\n",
       "      <td>1</td>\n",
       "      <td>1</td>\n",
       "      <td>101348.88</td>\n",
       "      <td>1</td>\n",
       "      <td>1</td>\n",
       "      <td>2</td>\n",
       "      <td>DIAMOND</td>\n",
       "      <td>464</td>\n",
       "    </tr>\n",
       "    <tr>\n",
       "      <th>2</th>\n",
       "      <td>3</td>\n",
       "      <td>15619304</td>\n",
       "      <td>Onio</td>\n",
       "      <td>502</td>\n",
       "      <td>France</td>\n",
       "      <td>Female</td>\n",
       "      <td>42</td>\n",
       "      <td>8</td>\n",
       "      <td>159660.8</td>\n",
       "      <td>3</td>\n",
       "      <td>1</td>\n",
       "      <td>0</td>\n",
       "      <td>113931.57</td>\n",
       "      <td>1</td>\n",
       "      <td>1</td>\n",
       "      <td>3</td>\n",
       "      <td>DIAMOND</td>\n",
       "      <td>377</td>\n",
       "    </tr>\n",
       "  </tbody>\n",
       "</table>\n",
       "</div>"
      ],
      "text/plain": [
       "   RowNumber  CustomerId   Surname  CreditScore Geography  Gender  Age  \\\n",
       "0          1    15634602  Hargrave          619    France  Female   42   \n",
       "2          3    15619304      Onio          502    France  Female   42   \n",
       "\n",
       "   Tenure   Balance  NumOfProducts  HasCrCard  IsActiveMember  \\\n",
       "0       2       0.0              1          1               1   \n",
       "2       8  159660.8              3          1               0   \n",
       "\n",
       "   EstimatedSalary  Exited  Complain  Satisfaction Score Card Type  \\\n",
       "0        101348.88       1         1                   2   DIAMOND   \n",
       "2        113931.57       1         1                   3   DIAMOND   \n",
       "\n",
       "   Point Earned  \n",
       "0           464  \n",
       "2           377  "
      ]
     },
     "execution_count": 53,
     "metadata": {},
     "output_type": "execute_result"
    }
   ],
   "source": [
    "df_churn.head(2)"
   ]
  },
  {
   "cell_type": "code",
   "execution_count": 50,
   "id": "451458a9",
   "metadata": {},
   "outputs": [],
   "source": [
    "df_not_churn = df[df['Exited'] == 0]"
   ]
  },
  {
   "cell_type": "code",
   "execution_count": 52,
   "id": "8a611a41",
   "metadata": {},
   "outputs": [
    {
     "data": {
      "text/plain": [
       "(7962, 18)"
      ]
     },
     "execution_count": 52,
     "metadata": {},
     "output_type": "execute_result"
    }
   ],
   "source": [
    "df_not_churn.shape"
   ]
  },
  {
   "cell_type": "code",
   "execution_count": 54,
   "id": "2e9a569e",
   "metadata": {},
   "outputs": [
    {
     "data": {
      "text/html": [
       "<div>\n",
       "<style scoped>\n",
       "    .dataframe tbody tr th:only-of-type {\n",
       "        vertical-align: middle;\n",
       "    }\n",
       "\n",
       "    .dataframe tbody tr th {\n",
       "        vertical-align: top;\n",
       "    }\n",
       "\n",
       "    .dataframe thead th {\n",
       "        text-align: right;\n",
       "    }\n",
       "</style>\n",
       "<table border=\"1\" class=\"dataframe\">\n",
       "  <thead>\n",
       "    <tr style=\"text-align: right;\">\n",
       "      <th></th>\n",
       "      <th>RowNumber</th>\n",
       "      <th>CustomerId</th>\n",
       "      <th>Surname</th>\n",
       "      <th>CreditScore</th>\n",
       "      <th>Geography</th>\n",
       "      <th>Gender</th>\n",
       "      <th>Age</th>\n",
       "      <th>Tenure</th>\n",
       "      <th>Balance</th>\n",
       "      <th>NumOfProducts</th>\n",
       "      <th>HasCrCard</th>\n",
       "      <th>IsActiveMember</th>\n",
       "      <th>EstimatedSalary</th>\n",
       "      <th>Exited</th>\n",
       "      <th>Complain</th>\n",
       "      <th>Satisfaction Score</th>\n",
       "      <th>Card Type</th>\n",
       "      <th>Point Earned</th>\n",
       "    </tr>\n",
       "  </thead>\n",
       "  <tbody>\n",
       "    <tr>\n",
       "      <th>1</th>\n",
       "      <td>2</td>\n",
       "      <td>15647311</td>\n",
       "      <td>Hill</td>\n",
       "      <td>608</td>\n",
       "      <td>Spain</td>\n",
       "      <td>Female</td>\n",
       "      <td>41</td>\n",
       "      <td>1</td>\n",
       "      <td>83807.86</td>\n",
       "      <td>1</td>\n",
       "      <td>0</td>\n",
       "      <td>1</td>\n",
       "      <td>112542.58</td>\n",
       "      <td>0</td>\n",
       "      <td>1</td>\n",
       "      <td>3</td>\n",
       "      <td>DIAMOND</td>\n",
       "      <td>456</td>\n",
       "    </tr>\n",
       "    <tr>\n",
       "      <th>3</th>\n",
       "      <td>4</td>\n",
       "      <td>15701354</td>\n",
       "      <td>Boni</td>\n",
       "      <td>699</td>\n",
       "      <td>France</td>\n",
       "      <td>Female</td>\n",
       "      <td>39</td>\n",
       "      <td>1</td>\n",
       "      <td>0.00</td>\n",
       "      <td>2</td>\n",
       "      <td>0</td>\n",
       "      <td>0</td>\n",
       "      <td>93826.63</td>\n",
       "      <td>0</td>\n",
       "      <td>0</td>\n",
       "      <td>5</td>\n",
       "      <td>GOLD</td>\n",
       "      <td>350</td>\n",
       "    </tr>\n",
       "  </tbody>\n",
       "</table>\n",
       "</div>"
      ],
      "text/plain": [
       "   RowNumber  CustomerId Surname  CreditScore Geography  Gender  Age  Tenure  \\\n",
       "1          2    15647311    Hill          608     Spain  Female   41       1   \n",
       "3          4    15701354    Boni          699    France  Female   39       1   \n",
       "\n",
       "    Balance  NumOfProducts  HasCrCard  IsActiveMember  EstimatedSalary  \\\n",
       "1  83807.86              1          0               1        112542.58   \n",
       "3      0.00              2          0               0         93826.63   \n",
       "\n",
       "   Exited  Complain  Satisfaction Score Card Type  Point Earned  \n",
       "1       0         1                   3   DIAMOND           456  \n",
       "3       0         0                   5      GOLD           350  "
      ]
     },
     "execution_count": 54,
     "metadata": {},
     "output_type": "execute_result"
    }
   ],
   "source": [
    "df_not_churn.head(2)"
   ]
  },
  {
   "cell_type": "markdown",
   "id": "e08fddcf",
   "metadata": {},
   "source": [
    "### CHECK DATASET SIZE"
   ]
  },
  {
   "cell_type": "code",
   "execution_count": 4,
   "id": "ab40345e",
   "metadata": {},
   "outputs": [
    {
     "data": {
      "text/plain": [
       "(10000, 18)"
      ]
     },
     "execution_count": 4,
     "metadata": {},
     "output_type": "execute_result"
    }
   ],
   "source": [
    "df.shape"
   ]
  },
  {
   "cell_type": "markdown",
   "id": "d5db527b",
   "metadata": {},
   "source": [
    "### DATASET COLUMNS INFORMATION"
   ]
  },
  {
   "cell_type": "code",
   "execution_count": 5,
   "id": "6fea4f3f",
   "metadata": {},
   "outputs": [
    {
     "name": "stdout",
     "output_type": "stream",
     "text": [
      "<class 'pandas.core.frame.DataFrame'>\n",
      "RangeIndex: 10000 entries, 0 to 9999\n",
      "Data columns (total 18 columns):\n",
      " #   Column              Non-Null Count  Dtype  \n",
      "---  ------              --------------  -----  \n",
      " 0   RowNumber           10000 non-null  int64  \n",
      " 1   CustomerId          10000 non-null  int64  \n",
      " 2   Surname             10000 non-null  object \n",
      " 3   CreditScore         10000 non-null  int64  \n",
      " 4   Geography           10000 non-null  object \n",
      " 5   Gender              10000 non-null  object \n",
      " 6   Age                 10000 non-null  int64  \n",
      " 7   Tenure              10000 non-null  int64  \n",
      " 8   Balance             10000 non-null  float64\n",
      " 9   NumOfProducts       10000 non-null  int64  \n",
      " 10  HasCrCard           10000 non-null  int64  \n",
      " 11  IsActiveMember      10000 non-null  int64  \n",
      " 12  EstimatedSalary     10000 non-null  float64\n",
      " 13  Exited              10000 non-null  int64  \n",
      " 14  Complain            10000 non-null  int64  \n",
      " 15  Satisfaction Score  10000 non-null  int64  \n",
      " 16  Card Type           10000 non-null  object \n",
      " 17  Point Earned        10000 non-null  int64  \n",
      "dtypes: float64(2), int64(12), object(4)\n",
      "memory usage: 1.4+ MB\n"
     ]
    }
   ],
   "source": [
    "df.info()"
   ]
  },
  {
   "cell_type": "markdown",
   "id": "3dddba71",
   "metadata": {},
   "source": [
    "### NULL VALUES CHECK FOR EACH COLUMN"
   ]
  },
  {
   "cell_type": "code",
   "execution_count": 6,
   "id": "bce9b573",
   "metadata": {},
   "outputs": [
    {
     "data": {
      "text/plain": [
       "RowNumber             0\n",
       "CustomerId            0\n",
       "Surname               0\n",
       "CreditScore           0\n",
       "Geography             0\n",
       "Gender                0\n",
       "Age                   0\n",
       "Tenure                0\n",
       "Balance               0\n",
       "NumOfProducts         0\n",
       "HasCrCard             0\n",
       "IsActiveMember        0\n",
       "EstimatedSalary       0\n",
       "Exited                0\n",
       "Complain              0\n",
       "Satisfaction Score    0\n",
       "Card Type             0\n",
       "Point Earned          0\n",
       "dtype: int64"
      ]
     },
     "execution_count": 6,
     "metadata": {},
     "output_type": "execute_result"
    }
   ],
   "source": [
    "df.isna().sum()"
   ]
  },
  {
   "cell_type": "markdown",
   "id": "bc40f32b",
   "metadata": {},
   "source": [
    "### OBSERVATION"
   ]
  },
  {
   "cell_type": "code",
   "execution_count": 18,
   "id": "f7bda87e",
   "metadata": {},
   "outputs": [],
   "source": [
    "# THERE ARE TOTAL 10000 ROWS AND 18 COLUMNS\n",
    "# THERE IS NO MISSING VALUES IN THE DATASET"
   ]
  },
  {
   "cell_type": "markdown",
   "id": "ba4c42de",
   "metadata": {},
   "source": [
    "# EXPLORATORY DATA ANALYSIS - EDA"
   ]
  },
  {
   "cell_type": "markdown",
   "id": "9676bf8d",
   "metadata": {},
   "source": [
    "### STATISTICAL ANALYSIS FOR NUMERICAL COLUMNS"
   ]
  },
  {
   "cell_type": "code",
   "execution_count": 8,
   "id": "a55980f0",
   "metadata": {},
   "outputs": [
    {
     "data": {
      "text/html": [
       "<div>\n",
       "<style scoped>\n",
       "    .dataframe tbody tr th:only-of-type {\n",
       "        vertical-align: middle;\n",
       "    }\n",
       "\n",
       "    .dataframe tbody tr th {\n",
       "        vertical-align: top;\n",
       "    }\n",
       "\n",
       "    .dataframe thead th {\n",
       "        text-align: right;\n",
       "    }\n",
       "</style>\n",
       "<table border=\"1\" class=\"dataframe\">\n",
       "  <thead>\n",
       "    <tr style=\"text-align: right;\">\n",
       "      <th></th>\n",
       "      <th>count</th>\n",
       "      <th>mean</th>\n",
       "      <th>std</th>\n",
       "      <th>min</th>\n",
       "      <th>25%</th>\n",
       "      <th>50%</th>\n",
       "      <th>75%</th>\n",
       "      <th>max</th>\n",
       "    </tr>\n",
       "  </thead>\n",
       "  <tbody>\n",
       "    <tr>\n",
       "      <th>RowNumber</th>\n",
       "      <td>10000.0</td>\n",
       "      <td>5.000500e+03</td>\n",
       "      <td>2886.895680</td>\n",
       "      <td>1.00</td>\n",
       "      <td>2500.75</td>\n",
       "      <td>5.000500e+03</td>\n",
       "      <td>7.500250e+03</td>\n",
       "      <td>10000.00</td>\n",
       "    </tr>\n",
       "    <tr>\n",
       "      <th>CustomerId</th>\n",
       "      <td>10000.0</td>\n",
       "      <td>1.569094e+07</td>\n",
       "      <td>71936.186123</td>\n",
       "      <td>15565701.00</td>\n",
       "      <td>15628528.25</td>\n",
       "      <td>1.569074e+07</td>\n",
       "      <td>1.575323e+07</td>\n",
       "      <td>15815690.00</td>\n",
       "    </tr>\n",
       "    <tr>\n",
       "      <th>CreditScore</th>\n",
       "      <td>10000.0</td>\n",
       "      <td>6.505288e+02</td>\n",
       "      <td>96.653299</td>\n",
       "      <td>350.00</td>\n",
       "      <td>584.00</td>\n",
       "      <td>6.520000e+02</td>\n",
       "      <td>7.180000e+02</td>\n",
       "      <td>850.00</td>\n",
       "    </tr>\n",
       "    <tr>\n",
       "      <th>Age</th>\n",
       "      <td>10000.0</td>\n",
       "      <td>3.892180e+01</td>\n",
       "      <td>10.487806</td>\n",
       "      <td>18.00</td>\n",
       "      <td>32.00</td>\n",
       "      <td>3.700000e+01</td>\n",
       "      <td>4.400000e+01</td>\n",
       "      <td>92.00</td>\n",
       "    </tr>\n",
       "    <tr>\n",
       "      <th>Tenure</th>\n",
       "      <td>10000.0</td>\n",
       "      <td>5.012800e+00</td>\n",
       "      <td>2.892174</td>\n",
       "      <td>0.00</td>\n",
       "      <td>3.00</td>\n",
       "      <td>5.000000e+00</td>\n",
       "      <td>7.000000e+00</td>\n",
       "      <td>10.00</td>\n",
       "    </tr>\n",
       "    <tr>\n",
       "      <th>Balance</th>\n",
       "      <td>10000.0</td>\n",
       "      <td>7.648589e+04</td>\n",
       "      <td>62397.405202</td>\n",
       "      <td>0.00</td>\n",
       "      <td>0.00</td>\n",
       "      <td>9.719854e+04</td>\n",
       "      <td>1.276442e+05</td>\n",
       "      <td>250898.09</td>\n",
       "    </tr>\n",
       "    <tr>\n",
       "      <th>NumOfProducts</th>\n",
       "      <td>10000.0</td>\n",
       "      <td>1.530200e+00</td>\n",
       "      <td>0.581654</td>\n",
       "      <td>1.00</td>\n",
       "      <td>1.00</td>\n",
       "      <td>1.000000e+00</td>\n",
       "      <td>2.000000e+00</td>\n",
       "      <td>4.00</td>\n",
       "    </tr>\n",
       "    <tr>\n",
       "      <th>HasCrCard</th>\n",
       "      <td>10000.0</td>\n",
       "      <td>7.055000e-01</td>\n",
       "      <td>0.455840</td>\n",
       "      <td>0.00</td>\n",
       "      <td>0.00</td>\n",
       "      <td>1.000000e+00</td>\n",
       "      <td>1.000000e+00</td>\n",
       "      <td>1.00</td>\n",
       "    </tr>\n",
       "    <tr>\n",
       "      <th>IsActiveMember</th>\n",
       "      <td>10000.0</td>\n",
       "      <td>5.151000e-01</td>\n",
       "      <td>0.499797</td>\n",
       "      <td>0.00</td>\n",
       "      <td>0.00</td>\n",
       "      <td>1.000000e+00</td>\n",
       "      <td>1.000000e+00</td>\n",
       "      <td>1.00</td>\n",
       "    </tr>\n",
       "    <tr>\n",
       "      <th>EstimatedSalary</th>\n",
       "      <td>10000.0</td>\n",
       "      <td>1.000902e+05</td>\n",
       "      <td>57510.492818</td>\n",
       "      <td>11.58</td>\n",
       "      <td>51002.11</td>\n",
       "      <td>1.001939e+05</td>\n",
       "      <td>1.493882e+05</td>\n",
       "      <td>199992.48</td>\n",
       "    </tr>\n",
       "    <tr>\n",
       "      <th>Exited</th>\n",
       "      <td>10000.0</td>\n",
       "      <td>2.038000e-01</td>\n",
       "      <td>0.402842</td>\n",
       "      <td>0.00</td>\n",
       "      <td>0.00</td>\n",
       "      <td>0.000000e+00</td>\n",
       "      <td>0.000000e+00</td>\n",
       "      <td>1.00</td>\n",
       "    </tr>\n",
       "    <tr>\n",
       "      <th>Complain</th>\n",
       "      <td>10000.0</td>\n",
       "      <td>2.044000e-01</td>\n",
       "      <td>0.403283</td>\n",
       "      <td>0.00</td>\n",
       "      <td>0.00</td>\n",
       "      <td>0.000000e+00</td>\n",
       "      <td>0.000000e+00</td>\n",
       "      <td>1.00</td>\n",
       "    </tr>\n",
       "    <tr>\n",
       "      <th>Satisfaction Score</th>\n",
       "      <td>10000.0</td>\n",
       "      <td>3.013800e+00</td>\n",
       "      <td>1.405919</td>\n",
       "      <td>1.00</td>\n",
       "      <td>2.00</td>\n",
       "      <td>3.000000e+00</td>\n",
       "      <td>4.000000e+00</td>\n",
       "      <td>5.00</td>\n",
       "    </tr>\n",
       "    <tr>\n",
       "      <th>Point Earned</th>\n",
       "      <td>10000.0</td>\n",
       "      <td>6.065151e+02</td>\n",
       "      <td>225.924839</td>\n",
       "      <td>119.00</td>\n",
       "      <td>410.00</td>\n",
       "      <td>6.050000e+02</td>\n",
       "      <td>8.010000e+02</td>\n",
       "      <td>1000.00</td>\n",
       "    </tr>\n",
       "  </tbody>\n",
       "</table>\n",
       "</div>"
      ],
      "text/plain": [
       "                      count          mean           std          min  \\\n",
       "RowNumber           10000.0  5.000500e+03   2886.895680         1.00   \n",
       "CustomerId          10000.0  1.569094e+07  71936.186123  15565701.00   \n",
       "CreditScore         10000.0  6.505288e+02     96.653299       350.00   \n",
       "Age                 10000.0  3.892180e+01     10.487806        18.00   \n",
       "Tenure              10000.0  5.012800e+00      2.892174         0.00   \n",
       "Balance             10000.0  7.648589e+04  62397.405202         0.00   \n",
       "NumOfProducts       10000.0  1.530200e+00      0.581654         1.00   \n",
       "HasCrCard           10000.0  7.055000e-01      0.455840         0.00   \n",
       "IsActiveMember      10000.0  5.151000e-01      0.499797         0.00   \n",
       "EstimatedSalary     10000.0  1.000902e+05  57510.492818        11.58   \n",
       "Exited              10000.0  2.038000e-01      0.402842         0.00   \n",
       "Complain            10000.0  2.044000e-01      0.403283         0.00   \n",
       "Satisfaction Score  10000.0  3.013800e+00      1.405919         1.00   \n",
       "Point Earned        10000.0  6.065151e+02    225.924839       119.00   \n",
       "\n",
       "                            25%           50%           75%          max  \n",
       "RowNumber               2500.75  5.000500e+03  7.500250e+03     10000.00  \n",
       "CustomerId          15628528.25  1.569074e+07  1.575323e+07  15815690.00  \n",
       "CreditScore              584.00  6.520000e+02  7.180000e+02       850.00  \n",
       "Age                       32.00  3.700000e+01  4.400000e+01        92.00  \n",
       "Tenure                     3.00  5.000000e+00  7.000000e+00        10.00  \n",
       "Balance                    0.00  9.719854e+04  1.276442e+05    250898.09  \n",
       "NumOfProducts              1.00  1.000000e+00  2.000000e+00         4.00  \n",
       "HasCrCard                  0.00  1.000000e+00  1.000000e+00         1.00  \n",
       "IsActiveMember             0.00  1.000000e+00  1.000000e+00         1.00  \n",
       "EstimatedSalary        51002.11  1.001939e+05  1.493882e+05    199992.48  \n",
       "Exited                     0.00  0.000000e+00  0.000000e+00         1.00  \n",
       "Complain                   0.00  0.000000e+00  0.000000e+00         1.00  \n",
       "Satisfaction Score         2.00  3.000000e+00  4.000000e+00         5.00  \n",
       "Point Earned             410.00  6.050000e+02  8.010000e+02      1000.00  "
      ]
     },
     "execution_count": 8,
     "metadata": {},
     "output_type": "execute_result"
    }
   ],
   "source": [
    "df.describe().T"
   ]
  },
  {
   "cell_type": "markdown",
   "id": "3dc3625f",
   "metadata": {},
   "source": [
    "### OBSERVATION"
   ]
  },
  {
   "cell_type": "code",
   "execution_count": 19,
   "id": "f355796a",
   "metadata": {},
   "outputs": [],
   "source": [
    "# CUSTOMERS HAVE THE CREDIT SCORES FROM AS LOW AS FROM 350 AND TO AS HIGH AS 850 \n",
    "# THIS DATA HAVE THE CUSTOMERS FROM ACROSS THE AGE RANGES FROM 18 YEARS TO 92 YEARS\n",
    "# NumOfProducts THAT CUSTOMERS ARE USING IS BETWEEN 1 TO 4"
   ]
  },
  {
   "cell_type": "markdown",
   "id": "a03a2f14",
   "metadata": {},
   "source": [
    "### STATISTICAL ANALYSIS FOR CATEGORICAL COLUMNS"
   ]
  },
  {
   "cell_type": "code",
   "execution_count": 13,
   "id": "649bd56a",
   "metadata": {},
   "outputs": [
    {
     "data": {
      "text/html": [
       "<div>\n",
       "<style scoped>\n",
       "    .dataframe tbody tr th:only-of-type {\n",
       "        vertical-align: middle;\n",
       "    }\n",
       "\n",
       "    .dataframe tbody tr th {\n",
       "        vertical-align: top;\n",
       "    }\n",
       "\n",
       "    .dataframe thead th {\n",
       "        text-align: right;\n",
       "    }\n",
       "</style>\n",
       "<table border=\"1\" class=\"dataframe\">\n",
       "  <thead>\n",
       "    <tr style=\"text-align: right;\">\n",
       "      <th></th>\n",
       "      <th>count</th>\n",
       "      <th>unique</th>\n",
       "      <th>top</th>\n",
       "      <th>freq</th>\n",
       "    </tr>\n",
       "  </thead>\n",
       "  <tbody>\n",
       "    <tr>\n",
       "      <th>Surname</th>\n",
       "      <td>10000</td>\n",
       "      <td>2932</td>\n",
       "      <td>Smith</td>\n",
       "      <td>32</td>\n",
       "    </tr>\n",
       "    <tr>\n",
       "      <th>Geography</th>\n",
       "      <td>10000</td>\n",
       "      <td>3</td>\n",
       "      <td>France</td>\n",
       "      <td>5014</td>\n",
       "    </tr>\n",
       "    <tr>\n",
       "      <th>Gender</th>\n",
       "      <td>10000</td>\n",
       "      <td>2</td>\n",
       "      <td>Male</td>\n",
       "      <td>5457</td>\n",
       "    </tr>\n",
       "    <tr>\n",
       "      <th>Card Type</th>\n",
       "      <td>10000</td>\n",
       "      <td>4</td>\n",
       "      <td>DIAMOND</td>\n",
       "      <td>2507</td>\n",
       "    </tr>\n",
       "  </tbody>\n",
       "</table>\n",
       "</div>"
      ],
      "text/plain": [
       "           count unique      top  freq\n",
       "Surname    10000   2932    Smith    32\n",
       "Geography  10000      3   France  5014\n",
       "Gender     10000      2     Male  5457\n",
       "Card Type  10000      4  DIAMOND  2507"
      ]
     },
     "execution_count": 13,
     "metadata": {},
     "output_type": "execute_result"
    }
   ],
   "source": [
    "df.describe(include = 'object').T"
   ]
  },
  {
   "cell_type": "markdown",
   "id": "8c02d9c9",
   "metadata": {},
   "source": [
    "### OBSERVATION"
   ]
  },
  {
   "cell_type": "code",
   "execution_count": 20,
   "id": "6efde1c4",
   "metadata": {},
   "outputs": [],
   "source": [
    "# WE HAVE THE DATA FROM 3 LOCATIONS IN WHICH \"FRANCE\" IS THE PLACE FROM WHERE THE MOST CUTOMERS COMING\n",
    "# THERE ARE 4 TYPES OF CARDS IN WHICH \"DIAMOND\" IS THE MOST USED CARD FOR THE CUSTOMERS IN THE DATA"
   ]
  },
  {
   "cell_type": "markdown",
   "id": "c066d73c",
   "metadata": {},
   "source": [
    "### DISTRIBTION OF TARGETED COLUMN"
   ]
  },
  {
   "cell_type": "code",
   "execution_count": 15,
   "id": "4aa9607a",
   "metadata": {},
   "outputs": [
    {
     "data": {
      "image/png": "[encoded data removed]",
      "text/plain": [
       "<Figure size 400x300 with 1 Axes>"
      ]
     },
     "metadata": {},
     "output_type": "display_data"
    }
   ],
   "source": [
    "values = df.Exited.value_counts()\n",
    "labels = ['Not Exited', 'Exited']\n",
    "\n",
    "fig, ax = plt.subplots(figsize = (4, 3), dpi = 100)\n",
    "explode = (0, 0.09)\n",
    "\n",
    "patches, texts, autotexts = ax.pie(values, labels = labels, autopct = '%1.2f%%', shadow = True,\n",
    "                                   startangle = 90, explode = explode)\n",
    "\n",
    "plt.setp(texts, color = 'grey')\n",
    "plt.setp(autotexts, size = 8, color = 'white')\n",
    "autotexts[1].set_color('black')\n",
    "plt.show()"
   ]
  },
  {
   "cell_type": "markdown",
   "id": "75490257",
   "metadata": {},
   "source": [
    "### OBSERVATION"
   ]
  },
  {
   "cell_type": "code",
   "execution_count": null,
   "id": "83dccd9c",
   "metadata": {},
   "outputs": [],
   "source": [
    "# HERE WE CAN SEE THAT DATA IS IMBALANCE AS THERE IS 20% DATA WHICH ARE CHURNING"
   ]
  },
  {
   "cell_type": "markdown",
   "id": "b565628a",
   "metadata": {},
   "source": [
    "# HELPER FUNCTIONS"
   ]
  },
  {
   "cell_type": "code",
   "execution_count": 89,
   "id": "d9cf1f8c",
   "metadata": {},
   "outputs": [],
   "source": [
    "def chi_square_test(column1, column2, significance_level=0.05):\n",
    "    # Create a contingency table\n",
    "    contingency_table = pd.crosstab(column1, column2)\n",
    "\n",
    "    # Perform Chi-square test for independence\n",
    "    chi2, p, _, _ = chi2_contingency(contingency_table)\n",
    "\n",
    "    # Print the results\n",
    "    print(f\"P-value: {p}\")\n",
    "\n",
    "    # Compare p-value to the significance level\n",
    "    if p < significance_level:\n",
    "        print(\"Reject the null hypothesis. There is a significant difference.\")\n",
    "    else:\n",
    "        print(\"Fail to reject the null hypothesis. No significant difference.\")"
   ]
  },
  {
   "cell_type": "markdown",
   "id": "e5537b9a",
   "metadata": {},
   "source": [
    " "
   ]
  },
  {
   "cell_type": "markdown",
   "id": "f50efeb7",
   "metadata": {},
   "source": [
    "# VISUALIZING CATEGORICAL VARIABLE"
   ]
  },
  {
   "cell_type": "markdown",
   "id": "caae1aa6",
   "metadata": {},
   "source": [
    "### EXITED BY GEOGRAPHY"
   ]
  },
  {
   "cell_type": "code",
   "execution_count": 68,
   "id": "f5798da7",
   "metadata": {},
   "outputs": [
    {
     "data": {
      "image/png": "[encoded data removed]",
      "text/plain": [
       "<Figure size 648x504 with 1 Axes>"
      ]
     },
     "metadata": {
      "needs_background": "light"
     },
     "output_type": "display_data"
    }
   ],
   "source": [
    "fig, ax = plt.subplots(figsize=(9, 7))\n",
    "sns.countplot(x='Geography', hue='Exited', data=df, ax=ax)\n",
    "plt.title('Countplot of Exited by Geography')\n",
    "plt.show()"
   ]
  },
  {
   "cell_type": "code",
   "execution_count": 90,
   "id": "dcab1ce8",
   "metadata": {},
   "outputs": [
    {
     "name": "stdout",
     "output_type": "stream",
     "text": [
      "P-value: 5.245736109572763e-66\n",
      "Reject the null hypothesis. There is a significant difference.\n"
     ]
    }
   ],
   "source": [
    "chi_square_test(df['Geography'], df['Exited'])"
   ]
  },
  {
   "cell_type": "code",
   "execution_count": 99,
   "id": "09bfa55d",
   "metadata": {},
   "outputs": [],
   "source": [
    "# NUMBER OF PEOPLE EXITED FROM GERMANY IS HIGHER THAN OTHER GEOGRAPHY\n",
    "# NEED TO FOCUS GEOGRAPHY WISE"
   ]
  },
  {
   "cell_type": "markdown",
   "id": "1213a0b2",
   "metadata": {},
   "source": [
    "### EXITED BY GENDER"
   ]
  },
  {
   "cell_type": "code",
   "execution_count": 35,
   "id": "d59d94d8",
   "metadata": {},
   "outputs": [
    {
     "data": {
      "image/png": "[encoded data removed]",
      "text/plain": [
       "<Figure size 648x504 with 1 Axes>"
      ]
     },
     "metadata": {
      "needs_background": "light"
     },
     "output_type": "display_data"
    }
   ],
   "source": [
    "fig, ax = plt.subplots(figsize=(9, 7))\n",
    "sns.countplot(x='Gender', hue='Exited', data=df, ax=ax)\n",
    "plt.title('Countplot of Exited by Gender')\n",
    "plt.show()"
   ]
  },
  {
   "cell_type": "code",
   "execution_count": 91,
   "id": "bdb6a810",
   "metadata": {},
   "outputs": [
    {
     "name": "stdout",
     "output_type": "stream",
     "text": [
      "P-value: 2.9253677618642e-26\n",
      "Reject the null hypothesis. There is a significant difference.\n"
     ]
    }
   ],
   "source": [
    "chi_square_test(df['Gender'], df['Exited'])"
   ]
  },
  {
   "cell_type": "code",
   "execution_count": 103,
   "id": "81331146",
   "metadata": {},
   "outputs": [],
   "source": [
    "# NUMBER OF FEMALE EXITED IS HIGHER THAN THE NUMBER OF MALE\n",
    "# NEED TO FOCUS ON THE CHURN RATE BY GENDER"
   ]
  },
  {
   "cell_type": "markdown",
   "id": "299cdc97",
   "metadata": {},
   "source": [
    "### EXITED BY TENURE"
   ]
  },
  {
   "cell_type": "code",
   "execution_count": 36,
   "id": "c00c91d3",
   "metadata": {},
   "outputs": [
    {
     "data": {
      "image/png": "[encoded data removed]",
      "text/plain": [
       "<Figure size 648x504 with 1 Axes>"
      ]
     },
     "metadata": {
      "needs_background": "light"
     },
     "output_type": "display_data"
    }
   ],
   "source": [
    "fig, ax = plt.subplots(figsize=(9, 7))\n",
    "sns.countplot(x='Tenure', hue='Exited', data=df, ax=ax)\n",
    "plt.title('Countplot of Exited by Tenure')\n",
    "plt.show()"
   ]
  },
  {
   "cell_type": "code",
   "execution_count": 92,
   "id": "3cd68c93",
   "metadata": {},
   "outputs": [
    {
     "name": "stdout",
     "output_type": "stream",
     "text": [
      "P-value: 0.17035079254617927\n",
      "Fail to reject the null hypothesis. No significant difference.\n"
     ]
    }
   ],
   "source": [
    "chi_square_test(df['Tenure'], df['Exited'])"
   ]
  },
  {
   "cell_type": "code",
   "execution_count": 102,
   "id": "760c8a83",
   "metadata": {},
   "outputs": [],
   "source": [
    "# WE CAN OBSERVE THAT FROM TENURE 1 TO 9 MORE PEOPLE ARE LOOSING FROM THE BANK\n",
    "# NO NEED TO FOCUS ON THE CHURN RATE BY GENDER"
   ]
  },
  {
   "cell_type": "markdown",
   "id": "d08085f4",
   "metadata": {},
   "source": [
    "### EXITED BY NumOfProducts"
   ]
  },
  {
   "cell_type": "code",
   "execution_count": 37,
   "id": "510b5869",
   "metadata": {},
   "outputs": [
    {
     "data": {
      "image/png": "[encoded data removed]",
      "text/plain": [
       "<Figure size 648x504 with 1 Axes>"
      ]
     },
     "metadata": {
      "needs_background": "light"
     },
     "output_type": "display_data"
    }
   ],
   "source": [
    "fig, ax = plt.subplots(figsize=(9, 7))\n",
    "sns.countplot(x='NumOfProducts', hue='Exited', data=df, ax=ax)\n",
    "plt.title('Countplot of Exited by NumOfProducts')\n",
    "plt.show()"
   ]
  },
  {
   "cell_type": "code",
   "execution_count": 93,
   "id": "b3bae08b",
   "metadata": {},
   "outputs": [
    {
     "name": "stdout",
     "output_type": "stream",
     "text": [
      "P-value: 0.0\n",
      "Reject the null hypothesis. There is a significant difference.\n"
     ]
    }
   ],
   "source": [
    "chi_square_test(df['NumOfProducts'], df['Exited'])"
   ]
  },
  {
   "cell_type": "markdown",
   "id": "37560e63",
   "metadata": {},
   "source": [
    "MORE CUSTOMERS ARE LOOSING WHO HAVE LESSER NUMBER OF PRODUCTS WITH THEM"
   ]
  },
  {
   "cell_type": "markdown",
   "id": "0b4f26c2",
   "metadata": {},
   "source": [
    "NEED TO FOCUS ON THE CHURN RATE BY NumOfProducts"
   ]
  },
  {
   "cell_type": "markdown",
   "id": "84aca3bf",
   "metadata": {},
   "source": [
    "### EXITED BY HasCrCard"
   ]
  },
  {
   "cell_type": "code",
   "execution_count": 38,
   "id": "631bcd36",
   "metadata": {},
   "outputs": [
    {
     "data": {
      "image/png": "[encoded data removed]",
      "text/plain": [
       "<Figure size 648x504 with 1 Axes>"
      ]
     },
     "metadata": {
      "needs_background": "light"
     },
     "output_type": "display_data"
    }
   ],
   "source": [
    "fig, ax = plt.subplots(figsize=(9, 7))\n",
    "sns.countplot(x='HasCrCard', hue='Exited', data=df, ax=ax)\n",
    "plt.title('Countplot of Exited by HasCrCard')\n",
    "plt.show()"
   ]
  },
  {
   "cell_type": "code",
   "execution_count": 94,
   "id": "379fb8a7",
   "metadata": {},
   "outputs": [
    {
     "name": "stdout",
     "output_type": "stream",
     "text": [
      "P-value: 0.5026181509009862\n",
      "Fail to reject the null hypothesis. No significant difference.\n"
     ]
    }
   ],
   "source": [
    "chi_square_test(df['HasCrCard'], df['Exited'])"
   ]
  },
  {
   "cell_type": "code",
   "execution_count": 104,
   "id": "88111ed5",
   "metadata": {},
   "outputs": [],
   "source": [
    "# MORE CUSTOMERS LOOSING WHO HAVE CREDIT CARDS\n",
    "# No NEED TO FOCUS ON THE CHURN RATE BY HasCrCard"
   ]
  },
  {
   "cell_type": "markdown",
   "id": "5ad010eb",
   "metadata": {},
   "source": [
    "### EXITED BY IsActiveMember"
   ]
  },
  {
   "cell_type": "code",
   "execution_count": 39,
   "id": "bb100cdd",
   "metadata": {},
   "outputs": [
    {
     "data": {
      "image/png": "[encoded data removed]",
      "text/plain": [
       "<Figure size 648x504 with 1 Axes>"
      ]
     },
     "metadata": {
      "needs_background": "light"
     },
     "output_type": "display_data"
    }
   ],
   "source": [
    "fig, ax = plt.subplots(figsize=(9, 7))\n",
    "sns.countplot(x='IsActiveMember', hue='Exited', data=df, ax=ax)\n",
    "plt.title('Countplot of Exited by IsActiveMember')\n",
    "plt.show()"
   ]
  },
  {
   "cell_type": "code",
   "execution_count": 95,
   "id": "35ebd75c",
   "metadata": {},
   "outputs": [
    {
     "name": "stdout",
     "output_type": "stream",
     "text": [
      "P-value: 6.1531674381134086e-55\n",
      "Reject the null hypothesis. There is a significant difference.\n"
     ]
    }
   ],
   "source": [
    "chi_square_test(df['IsActiveMember'], df['Exited'])"
   ]
  },
  {
   "cell_type": "code",
   "execution_count": 105,
   "id": "27169d81",
   "metadata": {},
   "outputs": [],
   "source": [
    "# CUSTOMERS ARE MORE LIKELY TO CHURN WHO ARE INACTIVE MEMBERS\n",
    "# NEED TO FOCUS ON THE CHURN RATE BY IsActiveMember"
   ]
  },
  {
   "cell_type": "markdown",
   "id": "cb516a46",
   "metadata": {},
   "source": [
    "### EXITED BY COMPLAIN"
   ]
  },
  {
   "cell_type": "code",
   "execution_count": 57,
   "id": "3764c94c",
   "metadata": {},
   "outputs": [
    {
     "data": {
      "image/png": "[encoded data removed]",
      "text/plain": [
       "<Figure size 648x504 with 1 Axes>"
      ]
     },
     "metadata": {
      "needs_background": "light"
     },
     "output_type": "display_data"
    }
   ],
   "source": [
    "fig, ax = plt.subplots(figsize=(9, 7))\n",
    "sns.countplot(x='Complain', hue='Exited', data=df, ax=ax)\n",
    "plt.title('Countplot of Exited by Complain')\n",
    "plt.show()"
   ]
  },
  {
   "cell_type": "code",
   "execution_count": 96,
   "id": "4a9070f2",
   "metadata": {},
   "outputs": [
    {
     "name": "stdout",
     "output_type": "stream",
     "text": [
      "P-value: 0.0\n",
      "Reject the null hypothesis. There is a significant difference.\n"
     ]
    }
   ],
   "source": [
    "chi_square_test(df['Complain'], df['Exited'])"
   ]
  },
  {
   "cell_type": "code",
   "execution_count": 106,
   "id": "893914ae",
   "metadata": {},
   "outputs": [],
   "source": [
    "# THOSE HAVE COMPLAIN ARE MORE LIKELY TO LOOSE THE BANK\n",
    "# NEED TO FOCUS ON THE CHURN RATE BY Complain"
   ]
  },
  {
   "cell_type": "markdown",
   "id": "5b225ca0",
   "metadata": {},
   "source": [
    "### EXITED BY SATISFACTION SCORE"
   ]
  },
  {
   "cell_type": "code",
   "execution_count": 61,
   "id": "5d810f43",
   "metadata": {},
   "outputs": [
    {
     "data": {
      "image/png": "[encoded data removed]",
      "text/plain": [
       "<Figure size 648x504 with 1 Axes>"
      ]
     },
     "metadata": {
      "needs_background": "light"
     },
     "output_type": "display_data"
    }
   ],
   "source": [
    "fig, ax = plt.subplots(figsize=(9, 7))\n",
    "sns.countplot(x='Satisfaction Score', hue='Exited', data=df, ax=ax)\n",
    "plt.title('Countplot of Exited by Satisfaction Score')\n",
    "plt.show()"
   ]
  },
  {
   "cell_type": "code",
   "execution_count": 97,
   "id": "1d2e850e",
   "metadata": {},
   "outputs": [
    {
     "name": "stdout",
     "output_type": "stream",
     "text": [
      "P-value: 0.43336497327743106\n",
      "Fail to reject the null hypothesis. No significant difference.\n"
     ]
    }
   ],
   "source": [
    "chi_square_test(df['Satisfaction Score'], df['Exited'])"
   ]
  },
  {
   "cell_type": "code",
   "execution_count": 107,
   "id": "c96a7cea",
   "metadata": {},
   "outputs": [],
   "source": [
    "# NO CLEAR OUTPUT HERE I AM GETTING\n",
    "# No NEED TO FOCUS ON THE CHURN RATE BY Satisfaction Score"
   ]
  },
  {
   "cell_type": "markdown",
   "id": "d7537f46",
   "metadata": {},
   "source": [
    "### EXITED BY CARD TYPE"
   ]
  },
  {
   "cell_type": "code",
   "execution_count": 64,
   "id": "927eef74",
   "metadata": {},
   "outputs": [
    {
     "data": {
      "image/png": "[encoded data removed]",
      "text/plain": [
       "<Figure size 648x504 with 1 Axes>"
      ]
     },
     "metadata": {
      "needs_background": "light"
     },
     "output_type": "display_data"
    }
   ],
   "source": [
    "fig, ax = plt.subplots(figsize=(9, 7))\n",
    "sns.countplot(x='Card Type', hue='Exited', data=df, ax=ax)\n",
    "plt.title('Countplot of Exited by Card Type')\n",
    "plt.show()"
   ]
  },
  {
   "cell_type": "code",
   "execution_count": 98,
   "id": "75e4924b",
   "metadata": {},
   "outputs": [
    {
     "name": "stdout",
     "output_type": "stream",
     "text": [
      "P-value: 0.16794112067810177\n",
      "Fail to reject the null hypothesis. No significant difference.\n"
     ]
    }
   ],
   "source": [
    "chi_square_test(df['Card Type'], df['Exited'])"
   ]
  },
  {
   "cell_type": "code",
   "execution_count": 108,
   "id": "0c373917",
   "metadata": {},
   "outputs": [],
   "source": [
    "# PEOPLE WHO HAVE DIAMOND CARDS ARE CHURNING MORE FROM THE BANK\n",
    "# No NEED TO FOCUS ON THE CHURN RATE BY Card Type"
   ]
  },
  {
   "cell_type": "markdown",
   "id": "31dc3859",
   "metadata": {},
   "source": [
    "# VISUALIZING CONTINUOUS VARIABLES"
   ]
  },
  {
   "cell_type": "markdown",
   "id": "cc6aac71",
   "metadata": {},
   "source": [
    "### EXITED BY CREDIT SCORE"
   ]
  },
  {
   "cell_type": "code",
   "execution_count": 40,
   "id": "cffed28a",
   "metadata": {},
   "outputs": [
    {
     "data": {
      "image/png": "[encoded data removed]",
      "text/plain": [
       "<Figure size 576x360 with 1 Axes>"
      ]
     },
     "metadata": {
      "needs_background": "light"
     },
     "output_type": "display_data"
    }
   ],
   "source": [
    "fig, ax = plt.subplots(figsize = (8, 5))\n",
    "\n",
    "sns.boxplot(x = 'Exited', y = 'CreditScore', data = df, ax = ax)\n",
    "plt.show()"
   ]
  },
  {
   "cell_type": "markdown",
   "id": "51ec4cc4",
   "metadata": {},
   "source": [
    "NO SIGNIFICANT RELATIONSHIPS SHOWS BETWEEN CREDIT SCORE AND THE PEOPLE WHO ARE CHURNING OUT"
   ]
  },
  {
   "cell_type": "markdown",
   "id": "ab247f52",
   "metadata": {},
   "source": [
    "### EXITED BY AGE"
   ]
  },
  {
   "cell_type": "code",
   "execution_count": 41,
   "id": "93f64c90",
   "metadata": {},
   "outputs": [
    {
     "data": {
      "image/png": "[encoded data removed]",
      "text/plain": [
       "<Figure size 576x360 with 1 Axes>"
      ]
     },
     "metadata": {
      "needs_background": "light"
     },
     "output_type": "display_data"
    }
   ],
   "source": [
    "fig, ax = plt.subplots(figsize = (8, 5))\n",
    "\n",
    "sns.boxplot(x = 'Exited', y = 'Age', data = df, ax = ax)\n",
    "plt.show()"
   ]
  },
  {
   "cell_type": "markdown",
   "id": "0709bb90",
   "metadata": {},
   "source": [
    "MORE OLDER PEOPLE ARE LOOSING FROM BANK THAN THE YOUNGER ONES"
   ]
  },
  {
   "cell_type": "markdown",
   "id": "05193b5d",
   "metadata": {},
   "source": [
    "### EXITED BY BALANCE"
   ]
  },
  {
   "cell_type": "code",
   "execution_count": 42,
   "id": "1aa4fe42",
   "metadata": {},
   "outputs": [
    {
     "data": {
      "image/png": "[encoded data removed]",
      "text/plain": [
       "<Figure size 576x360 with 1 Axes>"
      ]
     },
     "metadata": {
      "needs_background": "light"
     },
     "output_type": "display_data"
    }
   ],
   "source": [
    "fig, ax = plt.subplots(figsize = (8, 5))\n",
    "\n",
    "sns.boxplot(x = 'Exited', y = 'Balance', data = df, ax = ax)\n",
    "plt.show()"
   ]
  },
  {
   "cell_type": "markdown",
   "id": "a0b8fea0",
   "metadata": {},
   "source": [
    "PEOPLE WITH BETTER BALANCE ARE LOOSING THE BANK MORE"
   ]
  },
  {
   "cell_type": "markdown",
   "id": "c52dc5a8",
   "metadata": {},
   "source": [
    "### EXITED BY ESTIMATEDSALARY"
   ]
  },
  {
   "cell_type": "code",
   "execution_count": 43,
   "id": "bea5f5a8",
   "metadata": {},
   "outputs": [
    {
     "data": {
      "image/png": "[encoded data removed]",
      "text/plain": [
       "<Figure size 576x360 with 1 Axes>"
      ]
     },
     "metadata": {
      "needs_background": "light"
     },
     "output_type": "display_data"
    }
   ],
   "source": [
    "fig, ax = plt.subplots(figsize = (8, 5))\n",
    "\n",
    "sns.boxplot(x = 'Exited', y = 'EstimatedSalary', data = df, ax = ax)\n",
    "plt.show()"
   ]
  },
  {
   "cell_type": "markdown",
   "id": "ba95e21a",
   "metadata": {},
   "source": [
    "### EXITED BY POINT EARNED"
   ]
  },
  {
   "cell_type": "code",
   "execution_count": 66,
   "id": "e9610713",
   "metadata": {},
   "outputs": [
    {
     "data": {
      "image/png": "[encoded data removed]",
      "text/plain": [
       "<Figure size 576x360 with 1 Axes>"
      ]
     },
     "metadata": {
      "needs_background": "light"
     },
     "output_type": "display_data"
    }
   ],
   "source": [
    "fig, ax = plt.subplots(figsize = (8, 5))\n",
    "\n",
    "sns.boxplot(x = 'Exited', y = 'Point Earned', data = df, ax = ax)\n",
    "plt.show()"
   ]
  },
  {
   "cell_type": "code",
   "execution_count": 67,
   "id": "ba3c2a90",
   "metadata": {},
   "outputs": [],
   "source": [
    "# NO SIGNIFICANT OBSERVATION"
   ]
  },
  {
   "cell_type": "code",
   "execution_count": null,
   "id": "53f4820c",
   "metadata": {},
   "outputs": [],
   "source": []
  },
  {
   "cell_type": "code",
   "execution_count": null,
   "id": "cc46e8d6",
   "metadata": {},
   "outputs": [],
   "source": []
  },
  {
   "cell_type": "code",
   "execution_count": null,
   "id": "d5210614",
   "metadata": {},
   "outputs": [],
   "source": []
  },
  {
   "cell_type": "markdown",
   "id": "f4b29f95",
   "metadata": {},
   "source": [
    "NO SIGNIFICANT DIFFERNCE FOR ESTIMATEDSALARY AND THE PEOPLE WHO ARE CHURNING FROM THE BANK"
   ]
  },
  {
   "cell_type": "markdown",
   "id": "86e89203",
   "metadata": {},
   "source": [
    " "
   ]
  },
  {
   "cell_type": "markdown",
   "id": "c3d8d0f0",
   "metadata": {},
   "source": [
    " "
   ]
  }
 ],
 "metadata": {
  "kernelspec": {
   "display_name": "Python 3 (ipykernel)",
   "language": "python",
   "name": "python3"
  },
  "language_info": {
   "codemirror_mode": {
    "name": "ipython",
    "version": 3
   },
   "file_extension": ".py",
   "mimetype": "text/x-python",
   "name": "python",
   "nbconvert_exporter": "python",
   "pygments_lexer": "ipython3",
   "version": "3.9.12"
  }
 },
 "nbformat": 4,
 "nbformat_minor": 5
}
